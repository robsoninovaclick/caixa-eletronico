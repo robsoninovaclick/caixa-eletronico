{
  "nbformat": 4,
  "nbformat_minor": 0,
  "metadata": {
    "colab": {
      "name": "classificacao-laranjas.ipynb",
      "provenance": [],
      "collapsed_sections": [],
      "mount_file_id": "1cTQ57sr_5KgaiGY90P7Mh38hpVr0-Vor",
      "authorship_tag": "ABX9TyOZVkjtFJ9VZLl8bPJsHInb",
      "include_colab_link": true
    },
    "kernelspec": {
      "name": "python3",
      "display_name": "Python 3"
    },
    "language_info": {
      "name": "python"
    }
  },
  "cells": [
    {
      "cell_type": "markdown",
      "metadata": {
        "id": "view-in-github",
        "colab_type": "text"
      },
      "source": [
        "<a href=\"https://colab.research.google.com/github/MichelyTamessawa/caixa-eletronico/blob/master/classificacao_laranjas.ipynb\" target=\"_parent\"><img src=\"https://colab.research.google.com/assets/colab-badge.svg\" alt=\"Open In Colab\"/></a>"
      ]
    },
    {
      "cell_type": "code",
      "source": [
        "import pandas as pd\n",
        "from sklearn.neighbors import KNeighborsClassifier\n",
        "from sklearn.ensemble import RandomForestClassifier\n",
        "from sklearn.svm import SVC\n",
        "from sklearn.model_selection import GridSearchCV, train_test_split\n",
        "from sklearn.metrics import accuracy_score, classification_report"
      ],
      "metadata": {
        "id": "trxXTgVS2m9M"
      },
      "execution_count": 1,
      "outputs": []
    },
    {
      "cell_type": "code",
      "source": [
        "siglas_laranjas = [\"B\", \"C\", \"D\", \"P\", \"V\"]\n",
        "classes_laranjas = [\"Boa\", \"Casca Grossa\", \"Dano Praga\", \"Podre\", \"Verde\"]\n",
        "path = \"/content/drive/MyDrive/4 ano/tcc/classificação de laranjas/\""
      ],
      "metadata": {
        "id": "nCxl7iBW45SM"
      },
      "execution_count": 2,
      "outputs": []
    },
    {
      "cell_type": "markdown",
      "source": [
        "**Leitura do Dataset**"
      ],
      "metadata": {
        "id": "dAfj6ssg3vRm"
      }
    },
    {
      "cell_type": "code",
      "execution_count": 3,
      "metadata": {
        "id": "q9V2jC1Kf0f4"
      },
      "outputs": [],
      "source": [
        "def leitura(tipo):\n",
        "  boa = pd.DataFrame()\n",
        "  casca_grossa = pd.DataFrame()\n",
        "  dano_praga = pd.DataFrame()\n",
        "  podre = pd.DataFrame()\n",
        "  verde = pd.DataFrame()\n",
        "\n",
        "  for index, classe in enumerate(classes_laranjas):\n",
        "    for i in range(1, 11):\n",
        "      path_resultado = path + tipo + classe + \"/Fold \" + str(i) + siglas_laranjas[index] + \".csv\"\n",
        "      linha = pd.read_csv(path_resultado)\n",
        "      if classe == \"Boa\":\n",
        "          boa = pd.concat([boa, linha],ignore_index=True)\n",
        "      elif classe == \"Casca Grossa\":\n",
        "          casca_grossa = pd.concat([casca_grossa, linha],ignore_index=True)\n",
        "      elif classe == \"Dano Praga\":\n",
        "          dano_praga = pd.concat([dano_praga, linha],ignore_index=True)\n",
        "      elif classe == \"Podre\":\n",
        "          podre = pd.concat([podre, linha],ignore_index=True)\n",
        "      elif classe == \"Verde\":\n",
        "          verde = pd.concat([verde, linha],ignore_index=True)\n",
        "  \n",
        "  return boa, casca_grossa, dano_praga, podre, verde"
      ]
    },
    {
      "cell_type": "markdown",
      "source": [
        "**Função que faz a divisão de inteiros por 4**"
      ],
      "metadata": {
        "id": "4803uudvAK5b"
      }
    },
    {
      "cell_type": "code",
      "source": [
        "def divide_quatro_partes(num):\n",
        "  resto = num % 4\n",
        "\n",
        "  if resto == 0:\n",
        "      return [num//4, num//4, num//4, num//4]\n",
        "  elif resto == 3:\n",
        "      return [num//4+1, num//4+1, num//4+1, num//4]\n",
        "  elif resto == 2:\n",
        "      return [num//4+1, num//4+1, num//4, num//4]\n",
        "  elif resto == 1:\n",
        "      return [num//4+1, num//4, num//4, num//4]"
      ],
      "metadata": {
        "id": "CO9_20cT5i9W"
      },
      "execution_count": 4,
      "outputs": []
    },
    {
      "cell_type": "markdown",
      "source": [
        "**Balanceamento das classes**"
      ],
      "metadata": {
        "id": "RUWUVzZUAU_R"
      }
    },
    {
      "cell_type": "code",
      "source": [
        "def boa_vs_todos(boa, casca_grossa, dano_praga, podre, verde):\n",
        "  n_classe  = boa.shape[0]\n",
        "  divisao_classes = divide_quatro_partes(n_classe)\n",
        "\n",
        "  c = casca_grossa.sample(n=divisao_classes[0],random_state=1)\n",
        "  d = dano_praga.sample(n=divisao_classes[1],random_state=1)\n",
        "  p = podre.sample(n=divisao_classes[2],random_state=1)\n",
        "  v = verde.sample(n=divisao_classes[3],random_state=1)\n",
        "\n",
        "  classe_0 = boa\n",
        "  classe_1 = pd.concat([c, d, p, v], axis=0, ignore_index=True)\n",
        "  classe_1[\"class\"].replace({2:1, 3:1, 4:1}, inplace=True)\n",
        "\n",
        "  df = pd.concat([classe_0, classe_1], axis=0, ignore_index=True)\n",
        "  X = df.drop('class', axis=1)\n",
        "  y = df[\"class\"]\n",
        "\n",
        "  x_train, x_test, y_train, y_test = train_test_split(X, y, test_size=0.2,random_state=42)\n",
        "  \n",
        "  return x_train, x_test, y_train, y_test\n",
        "\n",
        "\n",
        "def casca_grossa_vs_todos(boa, casca_grossa, dano_praga, podre, verde):\n",
        "  n_classe  = casca_grossa.shape[0]\n",
        "  divisao_classes = divide_quatro_partes(n_classe)\n",
        "\n",
        "  b = boa.sample(n=divisao_classes[0],random_state=1)\n",
        "  d = dano_praga.sample(n=divisao_classes[1],random_state=1)\n",
        "  p = podre.sample(n=divisao_classes[2],random_state=1)\n",
        "  v = verde.sample(n=divisao_classes[3],random_state=1)\n",
        "\n",
        "  classe_0 = casca_grossa\n",
        "  classe_0[\"class\"] = 0\n",
        "\n",
        "  classe_1 = pd.concat([b, d, p, v], axis=0, ignore_index=True)\n",
        "  classe_1[\"class\"].replace({0: 1, 2: 1, 3: 1, 4: 1}, inplace=True)\n",
        "  \n",
        "  df = pd.concat([classe_0, classe_1], axis=0, ignore_index=True)\n",
        "  X = df.drop('class', axis=1)\n",
        "  y = df[\"class\"]\n",
        "\n",
        "  x_train, x_test, y_train, y_test = train_test_split(X, y, test_size=0.2,random_state=42)\n",
        "  \n",
        "  return x_train, x_test, y_train, y_test\n",
        "\n",
        "\n",
        "def dano_praga_vs_todos(boa, casca_grossa, dano_praga, podre, verde):\n",
        "  n_classe  = dano_praga.shape[0]\n",
        "  divisao_classes = divide_quatro_partes(n_classe)\n",
        "\n",
        "  b = boa.sample(n=divisao_classes[0],random_state=1)\n",
        "  c = casca_grossa.sample(n=divisao_classes[1],random_state=1)\n",
        "  p = podre.sample(n=divisao_classes[2],random_state=1)\n",
        "  v = verde.sample(n=divisao_classes[3],random_state=1)\n",
        "\n",
        "  classe_0 = dano_praga\n",
        "  classe_0[\"class\"] = 0\n",
        "  \n",
        "  classe_1 = pd.concat([c, b, p, v], axis=0, ignore_index=True)\n",
        "  classe_1[\"class\"].replace({0: 1, 3: 1, 4: 1}, inplace=True)\n",
        "    \n",
        "  df = pd.concat([classe_0, classe_1], axis=0, ignore_index=True)\n",
        "  X = df.drop('class', axis=1)\n",
        "  y = df[\"class\"]\n",
        "      \n",
        "  x_train, x_test, y_train, y_test = train_test_split(X, y, test_size=0.2,random_state=42)\n",
        "\n",
        "  return x_train, x_test, y_train, y_test\n",
        "\n",
        "\n",
        "def podre_vs_todos(boa, casca_grossa, dano_praga, podre, verde):\n",
        "  n_classe  = podre.shape[0]\n",
        "  divisao_classes = divide_quatro_partes(n_classe)\n",
        "\n",
        "  b = boa.sample(n=divisao_classes[0],random_state=1)\n",
        "  c = casca_grossa.sample(n=divisao_classes[1],random_state=1)\n",
        "  d = dano_praga.sample(n=divisao_classes[2],random_state=1)\n",
        "  v = verde.sample(n=divisao_classes[3],random_state=1)\n",
        "\n",
        "  classe_0 = podre\n",
        "  classe_0[\"class\"] = 0\n",
        "  \n",
        "  classe_1 = pd.concat([c, b, d, v], axis=0, ignore_index=True)\n",
        "  classe_1[\"class\"].replace({0: 1, 2: 1, 4: 1}, inplace=True)\n",
        "    \n",
        "  df = pd.concat([classe_0, classe_1], axis=0, ignore_index=True)\n",
        "\n",
        "  X = df.drop('class', axis=1)\n",
        "  y = df[\"class\"]\n",
        "      \n",
        "  x_train, x_test, y_train, y_test = train_test_split(X, y, test_size=0.2,random_state=42)\n",
        "\n",
        "  return x_train, x_test, y_train, y_test\n",
        "\n",
        "\n",
        "def verde_vs_todos(boa, casca_grossa, dano_praga, podre, verde):\n",
        "  n_classe  = verde.shape[0]\n",
        "  divisao_classes = divide_quatro_partes(n_classe)\n",
        "\n",
        "  b = boa.sample(n=divisao_classes[0],random_state=1)\n",
        "  c = casca_grossa.sample(n=divisao_classes[1],random_state=1)\n",
        "  d = dano_praga.sample(n=divisao_classes[2],random_state=1)\n",
        "  p = podre.sample(n=divisao_classes[3],random_state=1)\n",
        "\n",
        "  classe_0 = verde\n",
        "  classe_0[\"class\"] = 0\n",
        "  \n",
        "  classe_1 = pd.concat([c, b, p, d], axis=0, ignore_index=True)\n",
        "  classe_1[\"class\"].replace({0: 1, 2: 1, 3: 1}, inplace=True)  \n",
        "\n",
        "  df = pd.concat([classe_0, classe_1], axis=0, ignore_index=True)\n",
        "\n",
        "  X = df.drop('class', axis=1)\n",
        "  y = df[\"class\"]\n",
        "\n",
        "  x_train, x_test, y_train, y_test = train_test_split(X, y, test_size=0.2,random_state=42)\n",
        "\n",
        "  return x_train, x_test, y_train, y_test"
      ],
      "metadata": {
        "id": "72X4LVmT3KlX"
      },
      "execution_count": 5,
      "outputs": []
    },
    {
      "cell_type": "markdown",
      "source": [
        "**Classificador K-NN**"
      ],
      "metadata": {
        "id": "DabWF566D4ju"
      }
    },
    {
      "cell_type": "code",
      "source": [
        "def knn_gridsearchcv(x_train, x_test, y_train, y_test):\n",
        "  knn = KNeighborsClassifier()\n",
        "\n",
        "  parameters = {\n",
        "      'n_neighbors': range(1,30),\n",
        "      'leaf_size': (20,40,1),\n",
        "      'p': (1,2),\n",
        "      'weights': ('uniform', 'distance'),\n",
        "      'metric': ('minkowski', 'chebyshev') }\n",
        "\n",
        "  # selecionando os melhores parâmetros para o modelo\n",
        "  grid = GridSearchCV(estimator=knn, param_grid=parameters, cv=10, refit='True', scoring='accuracy')\n",
        "  grid_search = grid.fit(x_train, y_train)\n",
        "  print(\"Parâmetros: {}\".format(grid_search.best_params_))\n",
        "\n",
        "  # acurácia do modelo com os dados de treino\n",
        "  accuracy = grid_search.best_score_ *100    \n",
        "  print(\"Acurácia para os dados de treinamento: {:.2f}%\".format(accuracy))\n",
        "  \n",
        "  # acurácia com os dados de teste\n",
        "  y_test_result = grid.predict(x_test)\n",
        "  test_accuracy = accuracy_score(y_test, y_test_result)*100\n",
        "  print(\"Acurácia dos testes: {:.2f}%\".format(test_accuracy))\n",
        "\n",
        "  print(\"Matriz de Confusão:\")\n",
        "  print (pd.crosstab(y_test, y_test_result, rownames=['Real'], colnames=['Predito'], margins=True))"
      ],
      "metadata": {
        "id": "IfGYSPqZD8hk"
      },
      "execution_count": 6,
      "outputs": []
    },
    {
      "cell_type": "markdown",
      "source": [
        "**Classificador Random Forest**"
      ],
      "metadata": {
        "id": "sQIWmUeaAl8O"
      }
    },
    {
      "cell_type": "code",
      "source": [
        "def rf_gridsearchcv(x_train, x_test, y_train, y_test):\n",
        "  rf = RandomForestClassifier()\n",
        "\n",
        "  param_grid = {\n",
        "      'bootstrap': [True],\n",
        "      'max_depth': [80, 90, 100, 110],\n",
        "      'max_features': [2, 3],\n",
        "      'min_samples_leaf': [3, 4, 5],\n",
        "      'min_samples_split': [8, 10, 12],\n",
        "      'n_estimators': [100, 200, 300, 1000]\n",
        "  }\n",
        "\n",
        "  # Treinamento com gridsearch\n",
        "  grid = GridSearchCV(rf, param_grid, cv=10, refit='True', scoring='accuracy')\n",
        "  grid_search = grid.fit(x_train, y_train)\n",
        "  print(\"Parâmetros: {}\".format(grid_search.best_params_))\n",
        "\n",
        "  # Acurácia do modelo com os dados de treino\n",
        "  accuracy = grid_search.best_score_ *100    \n",
        "  print(\"Acurácia no treinamento: {:.2f}%\".format(accuracy))\n",
        "\n",
        "  # Teste\n",
        "  y_test_result = grid.predict(x_test)\n",
        "  test_accuracy = accuracy_score(y_test, y_test_result)*100\n",
        "  print(\"Acurácia dos testes: {:.2f}%\".format(test_accuracy))\n",
        "\n",
        "  # Matriz de Confusão\n",
        "  print(\"Matriz de Confusão:\")\n",
        "  print (pd.crosstab(y_test, y_test_result, rownames=['Real'], colnames=['Predito'], margins=True))\n"
      ],
      "metadata": {
        "id": "QQmNEefaAlSH"
      },
      "execution_count": 7,
      "outputs": []
    },
    {
      "cell_type": "markdown",
      "source": [
        "**Classificador SVM**"
      ],
      "metadata": {
        "id": "Urp4Rc1HNncW"
      }
    },
    {
      "cell_type": "code",
      "source": [
        "def svm_gridsearchcv(x_train, x_test, y_train, y_test):\n",
        "  clf = SVC()\n",
        "\n",
        "  param_grid = {'C': [0.1, 1, 10, 100, 1000],\n",
        "              'gamma': [1, 0.1, 0.01, 0.001, 0.0001],\n",
        "              'kernel': ['rbf']}\n",
        "              \n",
        "  # Treinamento com gridsearch\n",
        "  grid = GridSearchCV(clf, param_grid, cv=10, refit='True', scoring='accuracy')\n",
        "  grid_search = grid.fit(x_train, y_train)\n",
        "  print(\"Parâmetros: {}\".format(grid_search.best_params_))\n",
        "\n",
        "  # Acurácia do modelo com os dados de treino\n",
        "  accuracy = grid_search.best_score_ *100    \n",
        "  print(\"Acurácia no treinamento: {:.2f}%\".format(accuracy))\n",
        "\n",
        "  # Teste\n",
        "  y_test_result = grid.predict(x_test)\n",
        "  test_accuracy = accuracy_score(y_test, y_test_result)*100\n",
        "  print(\"Acurácia dos testes: {:.2f}%\".format(test_accuracy))\n",
        "\n",
        "  # Matriz de Confusão\n",
        "  print(\"Matriz de Confusão:\")\n",
        "  print (pd.crosstab(y_test, y_test_result, rownames=['Real'], colnames=['Predito'], margins=True))"
      ],
      "metadata": {
        "id": "iuIMzdu8NrDV"
      },
      "execution_count": 8,
      "outputs": []
    },
    {
      "cell_type": "markdown",
      "source": [
        "**K-NN: Tons de Cinza**"
      ],
      "metadata": {
        "id": "tDPNX2ML_I9g"
      }
    },
    {
      "cell_type": "code",
      "source": [
        "boa, casca_grossa, dano_praga, podre, verde = leitura(\"greycoprops_cinza/\")\n",
        "print(\"Boa vs Todos\")\n",
        "x_train, x_test, y_train, y_test = boa_vs_todos(boa, casca_grossa, dano_praga, podre, verde)\n",
        "knn_gridsearchcv(x_train, x_test, y_train, y_test)\n",
        "print(\"\\n\")\n",
        "print(\"Casca Grossa vs Todos\")\n",
        "x_train, x_test, y_train, y_test = casca_grossa_vs_todos(boa, casca_grossa, dano_praga, podre, verde)\n",
        "knn_gridsearchcv(x_train, x_test, y_train, y_test)\n",
        "print(\"\\n\")\n",
        "print(\"Dano Praga vs Todos\")\n",
        "x_train, x_test, y_train, y_test = dano_praga_vs_todos(boa, casca_grossa, dano_praga, podre, verde)\n",
        "knn_gridsearchcv(x_train, x_test, y_train, y_test)\n",
        "print(\"\\n\")\n",
        "print(\"Podre vs Todos\")\n",
        "x_train, x_test, y_train, y_test = podre_vs_todos(boa, casca_grossa, dano_praga, podre, verde)\n",
        "knn_gridsearchcv(x_train, x_test, y_train, y_test)\n",
        "print(\"\\n\")\n",
        "print(\"Verde vs Todos\")\n",
        "x_train, x_test, y_train, y_test = verde_vs_todos(boa, casca_grossa, dano_praga, podre, verde)\n",
        "knn_gridsearchcv(x_train, x_test, y_train, y_test)"
      ],
      "metadata": {
        "id": "PPcngd-1-Ev5",
        "colab": {
          "base_uri": "https://localhost:8080/"
        },
        "outputId": "2959a630-0f4b-4e0a-b0c7-c1021d5b0562"
      },
      "execution_count": null,
      "outputs": [
        {
          "output_type": "stream",
          "name": "stdout",
          "text": [
            "Boa vs Todos\n",
            "Parâmetros: {'leaf_size': 20, 'metric': 'minkowski', 'n_neighbors': 15, 'p': 1, 'weights': 'distance'}\n",
            "Acurácia para os dados de treinamento: 66.33%\n",
            "Acurácia dos testes: 67.29%\n",
            "Matriz de Confusão:\n",
            "Predito    0    1  All\n",
            "Real                  \n",
            "0        339  132  471\n",
            "1        165  272  437\n",
            "All      504  404  908\n",
            "\n",
            "\n",
            "Casca Grossa vs Todos\n",
            "Parâmetros: {'leaf_size': 20, 'metric': 'minkowski', 'n_neighbors': 20, 'p': 1, 'weights': 'distance'}\n",
            "Acurácia para os dados de treinamento: 67.62%\n",
            "Acurácia dos testes: 68.50%\n",
            "Matriz de Confusão:\n",
            "Predito    0    1  All\n",
            "Real                  \n",
            "0        361  110  471\n",
            "1        176  261  437\n",
            "All      537  371  908\n",
            "\n",
            "\n",
            "Dano Praga vs Todos\n",
            "Parâmetros: {'leaf_size': 20, 'metric': 'minkowski', 'n_neighbors': 27, 'p': 1, 'weights': 'distance'}\n",
            "Acurácia para os dados de treinamento: 63.43%\n",
            "Acurácia dos testes: 64.19%\n",
            "Matriz de Confusão:\n",
            "Predito    0    1  All\n",
            "Real                  \n",
            "0        322  142  464\n",
            "1        176  248  424\n",
            "All      498  390  888\n",
            "\n",
            "\n",
            "Podre vs Todos\n",
            "Parâmetros: {'leaf_size': 20, 'metric': 'minkowski', 'n_neighbors': 29, 'p': 1, 'weights': 'distance'}\n",
            "Acurácia para os dados de treinamento: 63.57%\n",
            "Acurácia dos testes: 62.11%\n",
            "Matriz de Confusão:\n",
            "Predito    0    1  All\n",
            "Real                  \n",
            "0        262  209  471\n",
            "1        135  302  437\n",
            "All      397  511  908\n",
            "\n",
            "\n",
            "Verde vs Todos\n",
            "Parâmetros: {'leaf_size': 20, 'metric': 'minkowski', 'n_neighbors': 23, 'p': 1, 'weights': 'distance'}\n",
            "Acurácia para os dados de treinamento: 71.50%\n",
            "Acurácia dos testes: 69.49%\n",
            "Matriz de Confusão:\n",
            "Predito    0    1  All\n",
            "Real                  \n",
            "0        328  143  471\n",
            "1        134  303  437\n",
            "All      462  446  908\n"
          ]
        }
      ]
    },
    {
      "cell_type": "markdown",
      "source": [
        "**K-NN: RGB**"
      ],
      "metadata": {
        "id": "97R45E8iLKhW"
      }
    },
    {
      "cell_type": "code",
      "source": [
        "boa, casca_grossa, dano_praga, podre, verde = leitura(\"greycoprops_colorida/\")\n",
        "print(\"Boa vs Todos\")\n",
        "x_train, x_test, y_train, y_test = boa_vs_todos(boa, casca_grossa, dano_praga, podre, verde)\n",
        "knn_gridsearchcv(x_train, x_test, y_train, y_test)\n",
        "print(\"\\n\")\n",
        "print(\"Casca Grossa vs Todos\")\n",
        "x_train, x_test, y_train, y_test = casca_grossa_vs_todos(boa, casca_grossa, dano_praga, podre, verde)\n",
        "knn_gridsearchcv(x_train, x_test, y_train, y_test)\n",
        "print(\"\\n\")\n",
        "print(\"Dano Praga vs Todos\")\n",
        "x_train, x_test, y_train, y_test = dano_praga_vs_todos(boa, casca_grossa, dano_praga, podre, verde)\n",
        "knn_gridsearchcv(x_train, x_test, y_train, y_test)\n",
        "print(\"\\n\")\n",
        "print(\"Podre vs Todos\")\n",
        "x_train, x_test, y_train, y_test = podre_vs_todos(boa, casca_grossa, dano_praga, podre, verde)\n",
        "knn_gridsearchcv(x_train, x_test, y_train, y_test)\n",
        "print(\"\\n\")\n",
        "print(\"Verde vs Todos\")\n",
        "x_train, x_test, y_train, y_test = verde_vs_todos(boa, casca_grossa, dano_praga, podre, verde)\n",
        "knn_gridsearchcv(x_train, x_test, y_train, y_test)"
      ],
      "metadata": {
        "id": "gcF91RDaLKhX",
        "colab": {
          "base_uri": "https://localhost:8080/"
        },
        "outputId": "4b26fd6a-fed7-4aaa-f8cc-fd13dc3ba525"
      },
      "execution_count": 9,
      "outputs": [
        {
          "output_type": "stream",
          "name": "stdout",
          "text": [
            "Boa vs Todos\n",
            "Parâmetros: {'leaf_size': 20, 'metric': 'minkowski', 'n_neighbors': 11, 'p': 1, 'weights': 'distance'}\n",
            "Acurácia para os dados de treinamento: 78.22%\n",
            "Acurácia dos testes: 80.18%\n",
            "Matriz de Confusão:\n",
            "Predito    0    1  All\n",
            "Real                  \n",
            "0        413   58  471\n",
            "1        122  315  437\n",
            "All      535  373  908\n",
            "\n",
            "\n",
            "Casca Grossa vs Todos\n",
            "Parâmetros: {'leaf_size': 20, 'metric': 'minkowski', 'n_neighbors': 4, 'p': 1, 'weights': 'distance'}\n",
            "Acurácia para os dados de treinamento: 86.12%\n",
            "Acurácia dos testes: 86.78%\n",
            "Matriz de Confusão:\n",
            "Predito    0    1  All\n",
            "Real                  \n",
            "0        428   43  471\n",
            "1         77  360  437\n",
            "All      505  403  908\n",
            "\n",
            "\n",
            "Dano Praga vs Todos\n",
            "Parâmetros: {'leaf_size': 20, 'metric': 'minkowski', 'n_neighbors': 9, 'p': 1, 'weights': 'distance'}\n",
            "Acurácia para os dados de treinamento: 85.61%\n",
            "Acurácia dos testes: 86.60%\n",
            "Matriz de Confusão:\n",
            "Predito    0    1  All\n",
            "Real                  \n",
            "0        429   35  464\n",
            "1         84  340  424\n",
            "All      513  375  888\n",
            "\n",
            "\n",
            "Podre vs Todos\n",
            "Parâmetros: {'leaf_size': 20, 'metric': 'minkowski', 'n_neighbors': 4, 'p': 1, 'weights': 'distance'}\n",
            "Acurácia para os dados de treinamento: 81.55%\n",
            "Acurácia dos testes: 81.50%\n",
            "Matriz de Confusão:\n",
            "Predito    0    1  All\n",
            "Real                  \n",
            "0        398   73  471\n",
            "1         95  342  437\n",
            "All      493  415  908\n",
            "\n",
            "\n",
            "Verde vs Todos\n",
            "Parâmetros: {'leaf_size': 20, 'metric': 'minkowski', 'n_neighbors': 11, 'p': 1, 'weights': 'distance'}\n",
            "Acurácia para os dados de treinamento: 98.10%\n",
            "Acurácia dos testes: 97.25%\n",
            "Matriz de Confusão:\n",
            "Predito    0    1  All\n",
            "Real                  \n",
            "0        454   17  471\n",
            "1          8  429  437\n",
            "All      462  446  908\n"
          ]
        }
      ]
    }
  ]
}